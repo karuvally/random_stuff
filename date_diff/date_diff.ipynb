{
 "cells": [
  {
   "cell_type": "code",
   "execution_count": 33,
   "metadata": {},
   "outputs": [],
   "source": [
    "#!/usr/bin/env python3\n",
    "# Find difference between dates\n",
    "# Copyright 2018, Aswin Babu Karuvally, Tharun P Karun"
   ]
  },
  {
   "cell_type": "code",
   "execution_count": 34,
   "metadata": {},
   "outputs": [],
   "source": [
    "# import serious stuff\n",
    "import datetime"
   ]
  },
  {
   "cell_type": "code",
   "execution_count": 35,
   "metadata": {},
   "outputs": [],
   "source": [
    "# essential variables\n",
    "year = 2018\n",
    "month = 6\n",
    "day = 21"
   ]
  },
  {
   "cell_type": "code",
   "execution_count": 36,
   "metadata": {},
   "outputs": [],
   "source": [
    "# take input\n",
    "def get_date():\n",
    "    day = int(input(\"day> \"))\n",
    "    month = int(input(\"month> \"))\n",
    "    year = int(input(\"year> \"))\n",
    "    \n",
    "    return datetime.date(year, month, day)"
   ]
  },
  {
   "cell_type": "code",
   "execution_count": 38,
   "metadata": {},
   "outputs": [
    {
     "name": "stdout",
     "output_type": "stream",
     "text": [
      "day> 20\n",
      "month> 10\n",
      "year> 2018\n",
      "day> 24\n",
      "month> 10\n",
      "year> 2018\n"
     ]
    }
   ],
   "source": [
    "# get the input\n",
    "date_1 = get_date()\n",
    "date_2 = get_date()\n",
    "\n",
    "difference = date_2 - date_1"
   ]
  },
  {
   "cell_type": "code",
   "execution_count": 47,
   "metadata": {},
   "outputs": [
    {
     "name": "stdout",
     "output_type": "stream",
     "text": [
      "4 days\n"
     ]
    }
   ],
   "source": [
    "# get the output\n",
    "print(difference.days, \"days\")"
   ]
  }
 ],
 "metadata": {
  "kernelspec": {
   "display_name": "Python 3",
   "language": "python",
   "name": "python3"
  },
  "language_info": {
   "codemirror_mode": {
    "name": "ipython",
    "version": 3
   },
   "file_extension": ".py",
   "mimetype": "text/x-python",
   "name": "python",
   "nbconvert_exporter": "python",
   "pygments_lexer": "ipython3",
   "version": "3.6.5"
  }
 },
 "nbformat": 4,
 "nbformat_minor": 2
}
